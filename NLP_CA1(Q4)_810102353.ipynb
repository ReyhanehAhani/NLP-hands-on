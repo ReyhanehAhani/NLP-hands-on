{
  "cells": [
    {
      "cell_type": "code",
      "execution_count": null,
      "metadata": {
        "id": "o7VelLEw17ka",
        "colab": {
          "base_uri": "https://localhost:8080/"
        },
        "outputId": "468c8126-6ca4-44f9-d257-1e37d89a9fb6"
      },
      "outputs": [
        {
          "output_type": "stream",
          "name": "stderr",
          "text": [
            "[nltk_data] Downloading package punkt to /root/nltk_data...\n",
            "[nltk_data]   Package punkt is already up-to-date!\n"
          ]
        },
        {
          "output_type": "execute_result",
          "data": {
            "text/plain": [
              "True"
            ]
          },
          "metadata": {},
          "execution_count": 2
        }
      ],
      "source": [
        "import nltk\n",
        "import numpy as np\n",
        "import pandas as pd\n",
        "from nltk import ngrams\n",
        "from nltk.probability import FreqDist\n",
        "from sklearn.metrics import accuracy_score\n",
        "from sklearn.model_selection import train_test_split\n",
        "\n",
        "nltk.download('punkt')"
      ]
    },
    {
      "cell_type": "code",
      "execution_count": null,
      "metadata": {
        "id": "2ROsWwTCGyRC"
      },
      "outputs": [],
      "source": [
        "# Step 1: Load the data\n",
        "data = pd.read_csv('/content/google_play_store_apps_reviews.csv')\n",
        "\n",
        "# Step 2: Split the data\n",
        "train_data, test_data = train_test_split(data, test_size=0.2, random_state=42)"
      ]
    },
    {
      "cell_type": "code",
      "source": [
        "# Getting N-grams\n",
        "def get_ngrams(text, n):\n",
        "    tokens = nltk.word_tokenize(text)\n",
        "    return list(ngrams(tokens, n))"
      ],
      "metadata": {
        "id": "zRKC60qI0Kra"
      },
      "execution_count": null,
      "outputs": []
    },
    {
      "cell_type": "code",
      "execution_count": null,
      "metadata": {
        "id": "LCLxiqPwvdoc"
      },
      "outputs": [],
      "source": [
        "# Step 3: Build the n-gram Language Model\n",
        "def train_ngram(data, n):\n",
        "    positive_ngrams = []\n",
        "    negative_ngrams = []\n",
        "\n",
        "    for index, row in data.iterrows():\n",
        "        grams = get_ngrams(row['review'], n)\n",
        "        if row['polarity'] == 1:\n",
        "            positive_ngrams.extend(grams)\n",
        "        elif row['polarity'] == 0:\n",
        "            negative_ngrams.extend(grams)\n",
        "\n",
        "    positive_freq = FreqDist(positive_ngrams)\n",
        "    negative_freq = FreqDist(negative_ngrams)\n",
        "\n",
        "    return positive_freq, negative_freq\n",
        "\n",
        "# Step 4: Train the Model\n",
        "n = 2\n",
        "positive_freq, negative_freq = train_ngram(train_data, n)"
      ]
    },
    {
      "cell_type": "code",
      "execution_count": null,
      "metadata": {
        "id": "eOWfIRYpwJjD"
      },
      "outputs": [],
      "source": [
        "# Step 5: Test the n-gram model\n",
        "def test_ngram(test_data, positive_freq, negative_freq, n):\n",
        "    pred_labels = []\n",
        "    total_reviews = len(test_data)\n",
        "    print(f\"Total reviews to process: {total_reviews}\")\n",
        "\n",
        "    for index, (i, row) in enumerate(test_data.iterrows(), 1):\n",
        "        grams = get_ngrams(row['review'], n)\n",
        "        pos_score = 0\n",
        "        neg_score = 0\n",
        "\n",
        "        for gram in grams:\n",
        "            pos_score += positive_freq[gram]\n",
        "            neg_score += negative_freq[gram]\n",
        "\n",
        "        if pos_score > neg_score:\n",
        "            pred_labels.append(1)  # Positive\n",
        "        else:\n",
        "            pred_labels.append(0)  # Negative or neutral\n",
        "\n",
        "\n",
        "        if index % 100 == 0:\n",
        "            print(f\"Processed {index}/{total_reviews} reviews.\")\n",
        "\n",
        "\n",
        "    if total_reviews % 100 != 0:\n",
        "        print(f\"Processed {total_reviews}/{total_reviews} reviews.\")\n",
        "\n",
        "    return pred_labels"
      ]
    },
    {
      "cell_type": "code",
      "execution_count": null,
      "metadata": {
        "colab": {
          "base_uri": "https://localhost:8080/"
        },
        "id": "qMykL9JbxIFD",
        "outputId": "2276263d-5ada-417f-b007-77165624090c"
      },
      "outputs": [
        {
          "output_type": "stream",
          "name": "stdout",
          "text": [
            "Total reviews to process: 179\n",
            "Processed 100/179 reviews.\n",
            "Processed 179/179 reviews.\n",
            "Accuracy: 0.7653631284916201\n"
          ]
        }
      ],
      "source": [
        "# Step 6: Evaluate the model on the test set\n",
        "pred_labels = test_ngram(test_data, positive_freq, negative_freq, n)\n",
        "actual_labels = test_data['polarity'].tolist()\n",
        "accuracy = accuracy_score(actual_labels, pred_labels)\n",
        "print(f\"Accuracy: {accuracy}\")"
      ]
    }
  ],
  "metadata": {
    "colab": {
      "provenance": []
    },
    "kernelspec": {
      "display_name": "Python 3",
      "name": "python3"
    },
    "language_info": {
      "name": "python"
    }
  },
  "nbformat": 4,
  "nbformat_minor": 0
}