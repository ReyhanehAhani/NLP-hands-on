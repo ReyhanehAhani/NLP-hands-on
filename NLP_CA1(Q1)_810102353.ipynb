{
  "cells": [
    {
      "cell_type": "code",
      "execution_count": null,
      "metadata": {
        "colab": {
          "base_uri": "https://localhost:8080/"
        },
        "id": "7yU2tBAU1HOC",
        "outputId": "a2f3ee6a-3ea0-404a-9086-ed7c4ae53c02"
      },
      "outputs": [
        {
          "output_type": "stream",
          "name": "stdout",
          "text": [
            "['Just', 'received', 'my', 'M', 'Sc', 'diploma', 'today', 'on', '2024', '02', '10', 'Excited', 'to', 'embark', 'on', 'this', 'new', 'journey', 'of', 'knowledge', 'and', 'discovery', 'MScGraduate', 'EducationMatters']\n"
          ]
        },
        {
          "output_type": "stream",
          "name": "stderr",
          "text": [
            "[nltk_data] Downloading package punkt to /root/nltk_data...\n",
            "[nltk_data]   Package punkt is already up-to-date!\n"
          ]
        }
      ],
      "source": [
        "import nltk\n",
        "from nltk.tokenize import sent_tokenize\n",
        "nltk.download('punkt')\n",
        "import re\n",
        "\n",
        "\n",
        "def custom_tokenizer(text):\n",
        "    sentences = sent_tokenize(text)\n",
        "    tokens = []\n",
        "    for sentence in sentences:\n",
        "        tokens.extend(re.findall(r'\\b\\w+\\b', sentence))\n",
        "    return tokens\n",
        "\n",
        "text = \"Just received my M.Sc. diploma today, on 2024/02/10! Excited to embark on this new journey of knowledge and discovery. #MScGraduate #EducationMatters.\"\n",
        "tokens = custom_tokenizer(text)\n",
        "print(tokens)\n"
      ]
    }
  ],
  "metadata": {
    "colab": {
      "provenance": []
    },
    "kernelspec": {
      "display_name": "Python 3",
      "name": "python3"
    },
    "language_info": {
      "name": "python"
    }
  },
  "nbformat": 4,
  "nbformat_minor": 0
}